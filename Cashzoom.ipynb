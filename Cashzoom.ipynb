{
 "cells": [
  {
   "cell_type": "markdown",
   "metadata": {},
   "source": [
    "# Cashzoom\n",
    "\n",
    "Analyze DKB .csv exports with python pandas\n",
    "\n",
    "## Requirements\n",
    "- Export .csv files from your DKB account\n",
    "- Provide the file names to the script variables"
   ]
  },
  {
   "cell_type": "code",
   "execution_count": null,
   "metadata": {
    "collapsed": true
   },
   "outputs": [],
   "source": [
    "import pandas\n",
    "\n",
    "ecCardAccount = \"ec2019.csv\"\n",
    "creditCardAccount = \"cc2019.csv\"\n",
    "\n",
    "columnClient = 'Auftraggeber / Beguenstigter'\n",
    "columnDescription = 'Beschreibung'\n",
    "columnValue = 'Betrag (EUR)'"
   ]
  },
  {
   "cell_type": "markdown",
   "metadata": {},
   "source": [
    "### Prepare the tables "
   ]
  },
  {
   "cell_type": "code",
   "execution_count": null,
   "metadata": {
    "collapsed": false
   },
   "outputs": [],
   "source": [
    "full_table_ec = pandas.read_csv(ecCardAccount, delimiter=';')\n",
    "full_table_cc = pandas.read_csv(creditCardAccount, delimiter=';')\n",
    "\n",
    "col_price = 'Betrag (EUR)'\n",
    "\n",
    "def clean_prices(table, column):\n",
    "    table[column] = table[column].apply(lambda x: x.replace('.',''))\n",
    "    table[column] = table[column].apply(lambda x: x.replace(',','.'))\n",
    "    table[column] = table[column].astype('float64')\n",
    "\n",
    "    \n",
    "clean_prices(full_table_ec, col_price)\n",
    "clean_prices(full_table_cc, col_price)"
   ]
  },
  {
   "cell_type": "markdown",
   "metadata": {},
   "source": [
    "### Analyze the data\n",
    "\n",
    "Check which Client received the most money"
   ]
  },
  {
   "cell_type": "code",
   "execution_count": null,
   "metadata": {
    "collapsed": false
   },
   "outputs": [],
   "source": [
    "full_table.sort_values(by=col_price, ascending=False).head()"
   ]
  },
  {
   "cell_type": "code",
   "execution_count": null,
   "metadata": {
    "collapsed": false
   },
   "outputs": [],
   "source": [
    "g = full_table.groupby(columnClient)[columnValue].sum()\n",
    "g.sort_values()"
   ]
  },
  {
   "cell_type": "code",
   "execution_count": null,
   "metadata": {
    "collapsed": false
   },
   "outputs": [],
   "source": [
    "g = full_table_k1.groupby(columnDescription)[columnValue].sum()\n",
    "g.sort_values()"
   ]
  }
 ],
 "metadata": {
  "anaconda-cloud": {},
  "kernelspec": {
   "display_name": "Python [default]",
   "language": "python",
   "name": "python3"
  },
  "language_info": {
   "codemirror_mode": {
    "name": "ipython",
    "version": 3
   },
   "file_extension": ".py",
   "mimetype": "text/x-python",
   "name": "python",
   "nbconvert_exporter": "python",
   "pygments_lexer": "ipython3",
   "version": "3.5.2"
  }
 },
 "nbformat": 4,
 "nbformat_minor": 2
}
